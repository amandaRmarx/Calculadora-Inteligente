{
  "nbformat": 4,
  "nbformat_minor": 0,
  "metadata": {
    "colab": {
      "provenance": [],
      "toc_visible": true
    },
    "kernelspec": {
      "name": "python3",
      "display_name": "Python 3"
    },
    "language_info": {
      "name": "python"
    }
  },
  "cells": [
    {
      "cell_type": "markdown",
      "source": [
        "## Calculadora Inteligente"
      ],
      "metadata": {
        "id": "s7FrTWKIsVV1"
      }
    },
    {
      "cell_type": "code",
      "source": [
        "# Menu\n",
        "num1 = int(input('Digite o primeiro número: '))\n",
        "num2 = int(input('Digite o segundo número: '))\n",
        "op = input('Defina a operação: ')\n",
        "\n",
        "#Operações a serem feitas:\n",
        "if op == '+':\n",
        "  resultado = num1 + num2\n",
        "  print('O resultado é:' ,resultado)\n",
        "elif op == '-':\n",
        "  resultado = num1 - num2\n",
        "  print('O resultado é:' ,resultado)\n",
        "elif op == '*':\n",
        "  resultado = num1 * num2\n",
        "  print('O resultado é:' ,resultado)\n",
        "elif op == '/':\n",
        "  resultado = num1 / num2\n",
        "  print('O resultado é:' ,resultado)\n",
        "else:\n",
        "  print('Operação Inválida')\n",
        "\n",
        "#Descobrindo mais osbre o resultado:\n",
        "numx = int(input('Digite o Número que deseja descobrir se é maior, menor ou igual '))\n",
        "if numx > resultado:\n",
        "  print('O número digitado é maior que o resultado!')\n",
        "elif numx < resultado:\n",
        "  print('O número digitado é menor que o resultado!')\n",
        "else:\n",
        "  print('O número digitado é igual ao resultado!')"
      ],
      "metadata": {
        "colab": {
          "base_uri": "https://localhost:8080/"
        },
        "id": "jZGW6AFntwKA",
        "outputId": "436d9f7a-1bd0-4a3a-8e2d-1e23a704d302"
      },
      "execution_count": 36,
      "outputs": [
        {
          "output_type": "stream",
          "name": "stdout",
          "text": [
            "Digite o primeiro número: 2\n",
            "Digite o segundo número: 2\n",
            "Defina a operação: +\n",
            "O resultado é: 4\n",
            "Digite o Número que deseja descobrir se é maior, menor ou igual 3\n",
            "O número digitado é menor que o resultado!\n"
          ]
        }
      ]
    },
    {
      "cell_type": "code",
      "source": [],
      "metadata": {
        "id": "81gxYLyntB74"
      },
      "execution_count": null,
      "outputs": []
    }
  ]
}